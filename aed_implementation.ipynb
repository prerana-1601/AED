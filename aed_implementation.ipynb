{
 "cells": [
  {
   "cell_type": "markdown",
   "id": "d813b723",
   "metadata": {},
   "source": [
    "# Install and load necesary packages"
   ]
  },
  {
   "cell_type": "code",
   "execution_count": 1,
   "id": "48b9b409",
   "metadata": {},
   "outputs": [],
   "source": [
    "# Please don't change this cell\n",
    "\n",
    "import pandas as pd\n",
    "import numpy as np  \n",
    "\n",
    "import warnings\n",
    "warnings.filterwarnings(\"ignore\")"
   ]
  },
  {
   "cell_type": "code",
   "execution_count": 2,
   "id": "6c328a40",
   "metadata": {},
   "outputs": [
    {
     "data": {
      "text/html": [
       "<div>\n",
       "<style scoped>\n",
       "    .dataframe tbody tr th:only-of-type {\n",
       "        vertical-align: middle;\n",
       "    }\n",
       "\n",
       "    .dataframe tbody tr th {\n",
       "        vertical-align: top;\n",
       "    }\n",
       "\n",
       "    .dataframe thead th {\n",
       "        text-align: right;\n",
       "    }\n",
       "</style>\n",
       "<table border=\"1\" class=\"dataframe\">\n",
       "  <thead>\n",
       "    <tr style=\"text-align: right;\">\n",
       "      <th></th>\n",
       "      <th>user_id</th>\n",
       "      <th>item_id</th>\n",
       "      <th>rating</th>\n",
       "      <th>timestamp</th>\n",
       "    </tr>\n",
       "  </thead>\n",
       "  <tbody>\n",
       "    <tr>\n",
       "      <th>0</th>\n",
       "      <td>196</td>\n",
       "      <td>242</td>\n",
       "      <td>3</td>\n",
       "      <td>881250949</td>\n",
       "    </tr>\n",
       "    <tr>\n",
       "      <th>1</th>\n",
       "      <td>186</td>\n",
       "      <td>302</td>\n",
       "      <td>3</td>\n",
       "      <td>891717742</td>\n",
       "    </tr>\n",
       "    <tr>\n",
       "      <th>2</th>\n",
       "      <td>22</td>\n",
       "      <td>377</td>\n",
       "      <td>1</td>\n",
       "      <td>878887116</td>\n",
       "    </tr>\n",
       "    <tr>\n",
       "      <th>3</th>\n",
       "      <td>244</td>\n",
       "      <td>51</td>\n",
       "      <td>2</td>\n",
       "      <td>880606923</td>\n",
       "    </tr>\n",
       "    <tr>\n",
       "      <th>4</th>\n",
       "      <td>166</td>\n",
       "      <td>346</td>\n",
       "      <td>1</td>\n",
       "      <td>886397596</td>\n",
       "    </tr>\n",
       "  </tbody>\n",
       "</table>\n",
       "</div>"
      ],
      "text/plain": [
       "   user_id  item_id  rating  timestamp\n",
       "0      196      242       3  881250949\n",
       "1      186      302       3  891717742\n",
       "2       22      377       1  878887116\n",
       "3      244       51       2  880606923\n",
       "4      166      346       1  886397596"
      ]
     },
     "execution_count": 2,
     "metadata": {},
     "output_type": "execute_result"
    }
   ],
   "source": [
    "# Please don't change this cell\n",
    "df = pd.read_csv('ml-100k/u.data', names=['user_id', 'item_id', 'rating', 'timestamp'], sep='\\t')\n",
    "\n",
    "df.head()"
   ]
  },
  {
   "cell_type": "markdown",
   "id": "d06d4c5f",
   "metadata": {},
   "source": [
    "# Split dataset\n",
    "## Random Train and Test Split"
   ]
  },
  {
   "cell_type": "code",
   "execution_count": 3,
   "id": "f55c0fda",
   "metadata": {},
   "outputs": [
    {
     "name": "stdout",
     "output_type": "stream",
     "text": [
      "943 users\n",
      "1682 items\n",
      "Construct the rating matrix based on train_df:\n",
      "[[0. 3. 4. ... 0. 0. 0.]\n",
      " [4. 0. 0. ... 0. 0. 0.]\n",
      " [0. 0. 0. ... 0. 0. 0.]\n",
      " ...\n",
      " [5. 0. 0. ... 0. 0. 0.]\n",
      " [0. 0. 0. ... 0. 0. 0.]\n",
      " [0. 5. 0. ... 0. 0. 0.]]\n",
      "Construct the rating matrix based on test_df:\n",
      "[[5. 0. 0. ... 0. 0. 0.]\n",
      " [0. 0. 0. ... 0. 0. 0.]\n",
      " [0. 0. 0. ... 0. 0. 0.]\n",
      " ...\n",
      " [0. 0. 0. ... 0. 0. 0.]\n",
      " [0. 0. 0. ... 0. 0. 0.]\n",
      " [0. 0. 0. ... 0. 0. 0.]]\n",
      "Testsize = 17678\n"
     ]
    }
   ],
   "source": [
    "# please do not change this cell\n",
    "\n",
    "from sklearn.model_selection import train_test_split\n",
    "\n",
    "n_users = df.user_id.unique().shape[0]\n",
    "n_items = df.item_id.unique().shape[0]\n",
    "print(str(n_users) + ' users')\n",
    "print(str(n_items) + ' items')\n",
    "\n",
    "train_df, test_df = train_test_split(df, test_size=0.2, random_state = 10)\n",
    "train_df, test_df\n",
    "\n",
    "# Training Dataset\n",
    "train_ds = np.zeros((n_users, n_items))\n",
    "item_popularity = np.zeros(n_items)\n",
    "for row in train_df.itertuples():\n",
    "    train_ds[row[1]-1, row[2]-1] = row[3]\n",
    "    item_popularity[row[2]-1] =  item_popularity[row[2]-1] + 1\n",
    "#train_ds = pd.DataFrame(train_ds)\n",
    "\n",
    "# Testing Dataset\n",
    "testsize = 0\n",
    "test_ds = np.zeros((n_users, n_items))\n",
    "for row in test_df.itertuples():\n",
    "    if item_popularity[row[2]-1] > 30:\n",
    "        test_ds[row[1]-1, row[2]-1] = row[3]\n",
    "        testsize = testsize + 1\n",
    "#test_ds = pd.DataFrame(test_ds)\n",
    "\n",
    "print(\"Construct the rating matrix based on train_df:\")\n",
    "print(train_ds)\n",
    "\n",
    "print(\"Construct the rating matrix based on test_df:\")\n",
    "print(test_ds)\n",
    "\n",
    "print(\"Testsize = \" + str(testsize))"
   ]
  },
  {
   "cell_type": "markdown",
   "id": "ba91d27b",
   "metadata": {},
   "source": [
    "# Utils"
   ]
  },
  {
   "cell_type": "code",
   "execution_count": 4,
   "id": "b927f55e",
   "metadata": {},
   "outputs": [],
   "source": [
    "# Please don't change this cell\n",
    "# you can use this devaluate Utils here, and you can also implement your own MAE and RMSE calculation. \n",
    "\n",
    "EPSILON = 1e-9\n",
    "\n",
    "def evaluate(test_ds, predicted_ds):\n",
    "    '''\n",
    "    Function for evaluating on MAE and RMSE\n",
    "    '''\n",
    "    # MAE\n",
    "    mask_test_ds = test_ds > 0\n",
    "    MAE = np.sum(np.abs(test_ds[mask_test_ds] - predicted_ds[mask_test_ds])) / np.sum(mask_test_ds.astype(np.float32))\n",
    "\n",
    "    # RMSE\n",
    "    RMSE = np.sqrt(np.sum(np.square(test_ds[mask_test_ds] - predicted_ds[mask_test_ds])) / np.sum(mask_test_ds.astype(np.float32)))\n",
    "\n",
    "    return MAE, RMSE"
   ]
  },
  {
   "cell_type": "markdown",
   "id": "3ec09aa5",
   "metadata": {},
   "source": [
    "# Your Solution"
   ]
  },
  {
   "cell_type": "code",
   "execution_count": 5,
   "id": "4f2f81aa",
   "metadata": {},
   "outputs": [],
   "source": [
    "# Write your code here\n",
    "# You are required to implement the required solution here. \n",
    "# Then, evaluate your implementation by predicting the ratings in the test set (test_ds).\n",
    "# Finally, save the corresponding MAE and RMSE of your implementation \n",
    "# into the following defined corresponding variable. \n",
    "\n",
    "MAE = 0 # 0 is an intial value, you need to update this with the actual performance of your implementation.\n",
    "RMSE = 0 # 0 is an intial value, you need to update this with the actual performance of your implementation.\n",
    "\n",
    "#converting to a data frame\n",
    "train_ds = pd.DataFrame(train_ds)\n",
    "test_ds = pd.DataFrame(test_ds)"
   ]
  },
  {
   "cell_type": "code",
   "execution_count": 6,
   "id": "aa7f0bbe-ee10-4422-b073-495d507636c0",
   "metadata": {},
   "outputs": [
    {
     "name": "stdout",
     "output_type": "stream",
     "text": [
      "[[1.         0.7236146  0.44098301 ... 0.72613872 0.5669873  0.60543465]\n",
      " [0.7236146  1.         0.5669873  ... 0.51587708 0.627322   0.85566243]\n",
      " [0.44098301 0.5669873  1.         ... 0.60471529 0.50900975 1.        ]\n",
      " ...\n",
      " [0.72613872 0.51587708 0.60471529 ... 1.         0.75       0.68377223]\n",
      " [0.5669873  0.627322   0.50900975 ... 0.75       1.         0.7058258 ]\n",
      " [0.60543465 0.85566243 1.         ... 0.68377223 0.7058258  1.        ]]\n"
     ]
    }
   ],
   "source": [
    "#importing necessary libraries\n",
    "import numpy as np\n",
    "import pandas as pd\n",
    "\n",
    "# Constants\n",
    "EPSILON = 1e-9\n",
    "Vmin = 1  # Assuming ratings are on a scale of 1 to 5\n",
    "Vmax = 5\n",
    "\n",
    "# Assuming train_ds and test_ds are provided as Pandas DataFrames\n",
    "n_users, n_items = train_ds.shape\n",
    "\n",
    "# Calculate the similarity matrix using the formula in the report\n",
    "\n",
    "#initialising the user-user similarity matrix with zero \n",
    "np_user_aed_corr = np.zeros((n_users, n_users))\n",
    "#initialising the Euclidean_distances matrix to store the Euclidean distance between every pair of user\n",
    "euclidean_distances = np.zeros((n_users, n_users))\n",
    "\n",
    "#iterating through the list to find the similarity between user-user\n",
    "for i, user_i_vec in enumerate(train_ds.values):\n",
    "    for j, user_j_vec in enumerate(train_ds.values):\n",
    "\n",
    "        #when comparing the same user set the similarity to 1\n",
    "        if i == j:\n",
    "            np_user_aed_corr[i][j] = 1\n",
    "            euclidean_distances[i][j] = 0\n",
    "            continue\n",
    "        # Mask for common rated items\n",
    "        mask_i = user_i_vec > 0\n",
    "        mask_j = user_j_vec > 0\n",
    "        common_mask = mask_i & mask_j\n",
    "        #if the users have no ratings in common then let the similarity remain 0\n",
    "        if np.sum(common_mask) == 0:\n",
    "            continue\n",
    "        # Calculate the numerator of the AED formula\n",
    "        sum_diff_squared = np.sum((user_i_vec[common_mask] - user_j_vec[common_mask]) ** 2)\n",
    "        # Calculate the denominator of the AED formula\n",
    "        dist_max = np.sqrt(np.sum(common_mask)) * (Vmax - Vmin)\n",
    "        aed = np.sqrt(sum_diff_squared) / (dist_max + EPSILON)\n",
    "        #find the similarity score based on the aed\n",
    "        sim = 1 - aed\n",
    "        np_user_aed_corr[i][j] = sim\n",
    "        euclidean_distances[i][j] = np.sqrt(sum_diff_squared)\n",
    "\n",
    "# Output the similarity matrix\n",
    "print(np_user_aed_corr)\n"
   ]
  },
  {
   "cell_type": "code",
   "execution_count": 7,
   "id": "b3946d7f-3a98-4dce-8b4d-fe6208f86840",
   "metadata": {},
   "outputs": [
    {
     "name": "stdout",
     "output_type": "stream",
     "text": [
      "[[4. 0. 0. ... 0. 0. 0.]\n",
      " [0. 0. 0. ... 0. 0. 0.]\n",
      " [0. 0. 0. ... 0. 0. 0.]\n",
      " ...\n",
      " [0. 0. 0. ... 0. 0. 0.]\n",
      " [0. 0. 0. ... 0. 0. 0.]\n",
      " [0. 0. 0. ... 0. 0. 0.]]\n"
     ]
    }
   ],
   "source": [
    "# Predict ratings\n",
    "np_predictions = np.zeros((n_users, n_items))\n",
    "#Considering 30 similar neighbours\n",
    "K = 30\n",
    "\n",
    "for (i, j), rating in np.ndenumerate(test_ds.values):\n",
    "    if rating > 0:  # Predict only for rated items\n",
    "        # Find top-K most similar users\n",
    "        sim_user_ids = np.argsort(np_user_aed_corr[i])[-(K + 1):-1]\n",
    "        #similarity values wrt i\n",
    "        sim_val = np_user_aed_corr[i][sim_user_ids]\n",
    "        #rating vectors of the similar user\n",
    "        sim_users = train_ds.values[sim_user_ids]\n",
    "\n",
    "        #mean rating of user i\n",
    "        user_mean = np.sum(train_ds.values[i]) / (np.sum(np.clip(train_ds.values[i], 0, 1)) + EPSILON)\n",
    "        #subset of similar users who have rated item j\n",
    "        mask_rated_j = sim_users[:, j] > 0\n",
    "\n",
    "        # Check for users with similarity == 1(or euclidean distance ==0) and also rated the movie j\n",
    "        identical_users_mask = (np_user_aed_corr[i][sim_user_ids] == 1) & mask_rated_j\n",
    "\n",
    "        #for identical users\n",
    "        if np.any(identical_users_mask):\n",
    "\n",
    "            #rating vectors of the identical users\n",
    "            identical_users = sim_users[identical_users_mask]\n",
    "            #subset of identical users who have rated item j\n",
    "            identical_users_ratings = identical_users[:, j] \n",
    "\n",
    "            #number of co-rated items between user i and identical user\n",
    "            m_c_values = np.array([np.sum((train_ds.values[i] > 0) & (train_ds.values[user_id] > 0)) for user_id in sim_user_ids[identical_users_mask]])\n",
    "            #if co-rated items exist Using the formula for identical users from the report\n",
    "            if np.sum(m_c_values) > 0:\n",
    "                k0 = 1 / np.sum(m_c_values)\n",
    "                np_predictions[i][j] = k0 * np.sum(m_c_values * identical_users_ratings)\n",
    "            else:\n",
    "                # Use the weighted sum formula(considering similar users) when identical users have not rated the item\n",
    "                weighted_sum_ratings = sim_val[mask_rated_j] * sim_users[mask_rated_j, j]\n",
    "                k = 1 / np.sum(sim_val[mask_rated_j])\n",
    "                np_predictions[i][j] = k * np.sum(weighted_sum_ratings)\n",
    "        else:\n",
    "            # Standard weighted sum(considering similar users) calculation or when there are no identical users\n",
    "            if np.sum(mask_rated_j) > 0:\n",
    "                weighted_sum_ratings = sim_val[mask_rated_j] * sim_users[mask_rated_j, j]\n",
    "                k = 1 / np.sum(sim_val[mask_rated_j])\n",
    "                np_predictions[i][j] = k * np.sum(weighted_sum_ratings)\n",
    "            #if none of the similar users have rated item j then assign the user_mean as the prediction\n",
    "            else:\n",
    "                np_predictions[i][j] = user_mean\n",
    "        \n",
    "        # Clip the prediction to the valid rating range\n",
    "        np_predictions[i][j] = np.clip(np_predictions[i][j], 0, 5)\n",
    "\n",
    "print(np_predictions)\n"
   ]
  },
  {
   "cell_type": "code",
   "execution_count": 8,
   "id": "d02a7d9f-6b53-4aa8-a816-a11bc468a6ec",
   "metadata": {},
   "outputs": [
    {
     "name": "stdout",
     "output_type": "stream",
     "text": [
      "MAE on Tesing set (User-based): when K=30 and random state=10 0.856048641065022\n"
     ]
    }
   ],
   "source": [
    "labels = test_ds.values\n",
    "\n",
    "# absolute error on all ratings\n",
    "absolute_error = np.abs(np_predictions - labels)\n",
    "\n",
    "# weight\n",
    "weight = np.clip(labels, 0, 1)\n",
    "\n",
    "# absoulte error on rated ratings\n",
    "abs_error = absolute_error * weight\n",
    "\n",
    "# MAE\n",
    "MAE = np.sum(abs_error) / np.sum(weight)\n",
    "\n",
    "print(\"MAE on Tesing set (User-based): when K=30 and random state=10 \" + str(MAE));"
   ]
  },
  {
   "cell_type": "code",
   "execution_count": 9,
   "id": "542630f7-c571-4b0f-bf5c-3e3083b6859a",
   "metadata": {},
   "outputs": [
    {
     "name": "stdout",
     "output_type": "stream",
     "text": [
      "RMSE on Tesing set (User-based): when K=30 and random state=10 1.1185266906241733\n"
     ]
    }
   ],
   "source": [
    "#==================RMSE on Testing set===================\n",
    "labels = test_ds.values\n",
    "\n",
    "# squared error on all ratings\n",
    "squared_error = np.square(np_predictions - labels)\n",
    "weight = np.clip(labels, 0, 1)\n",
    "\n",
    "# squared error on rated ratings\n",
    "squared_error = squared_error * weight\n",
    "\n",
    "# RMSE\n",
    "RMSE = np.sqrt(np.sum(squared_error) / np.sum(weight))\n",
    "\n",
    "print(\"RMSE on Tesing set (User-based): when K=30 and random state=10 \" + str(RMSE));"
   ]
  },
  {
   "cell_type": "code",
   "execution_count": 10,
   "id": "6e89b6a0",
   "metadata": {},
   "outputs": [
    {
     "name": "stdout",
     "output_type": "stream",
     "text": [
      "===================== The MAE and RMSE of Your Implementation =====================\n",
      "MAE: 0.856048641065022, RMSE: 1.1185266906241733\n"
     ]
    }
   ],
   "source": [
    "# Please don't change this cell\n",
    "\n",
    "print(\"===================== The MAE and RMSE of Your Implementation =====================\")\n",
    "print(\"MAE: {}, RMSE: {}\" .format(MAE, RMSE))"
   ]
  }
 ],
 "metadata": {
  "kernelspec": {
   "display_name": "Python 3 (ipykernel)",
   "language": "python",
   "name": "python3"
  },
  "language_info": {
   "codemirror_mode": {
    "name": "ipython",
    "version": 3
   },
   "file_extension": ".py",
   "mimetype": "text/x-python",
   "name": "python",
   "nbconvert_exporter": "python",
   "pygments_lexer": "ipython3",
   "version": "3.11.8"
  }
 },
 "nbformat": 4,
 "nbformat_minor": 5
}
